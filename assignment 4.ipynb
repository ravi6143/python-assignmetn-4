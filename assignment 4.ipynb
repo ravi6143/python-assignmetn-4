{
 "cells": [
  {
   "cell_type": "code",
   "execution_count": null,
   "id": "1d1bfee9-a769-4b21-b147-c9d15c8de635",
   "metadata": {},
   "outputs": [],
   "source": [
    "# Question - 1\n",
    "#ans -"
   ]
  },
  {
   "cell_type": "code",
   "execution_count": 14,
   "id": "2bf64ad7-0861-4a5f-9d93-219d14a1aa9e",
   "metadata": {},
   "outputs": [
    {
     "name": "stdout",
     "output_type": "stream",
     "text": [
      "('Virat Kohli', 24936)\n",
      "('Jack Kallis', 25534)\n",
      "('Ricky Ponting', 27483)\n",
      "('Sachin Tendulkar', 34357)\n"
     ]
    }
   ],
   "source": [
    "l = [('Sachin Tendulkar', 34357), ('Ricky Ponting', 27483), ('Jack Kallis', 25534), ('Virat Kohli', 24936)]\n",
    "\n",
    "d = sorted(l,key = lambda x : x[1])\n",
    "\n",
    "for i in d:\n",
    "    print(i)"
   ]
  },
  {
   "cell_type": "code",
   "execution_count": 5,
   "id": "678dab9e-33d1-4212-8ae0-b2315d632e98",
   "metadata": {},
   "outputs": [],
   "source": []
  },
  {
   "cell_type": "code",
   "execution_count": null,
   "id": "6c4abc62-329d-492b-8a12-8fb7656499bc",
   "metadata": {},
   "outputs": [],
   "source": []
  },
  {
   "cell_type": "code",
   "execution_count": null,
   "id": "c588fa3c-9da8-468c-ab4e-17d84a9ac39b",
   "metadata": {},
   "outputs": [],
   "source": [
    "# Question - 2\n",
    "# ans - "
   ]
  },
  {
   "cell_type": "code",
   "execution_count": 18,
   "id": "0b00db38-5d68-4671-a0a5-bc6166a3b3ba",
   "metadata": {},
   "outputs": [
    {
     "data": {
      "text/plain": [
       "<map at 0x7f7000035cc0>"
      ]
     },
     "execution_count": 18,
     "metadata": {},
     "output_type": "execute_result"
    }
   ],
   "source": [
    "l1 = [1, 2, 3, 4, 5, 6, 7, 8, 9,10]\n",
    "\n",
    "def square(n):\n",
    "    return n**2\n",
    "\n",
    "map(square , l1)"
   ]
  },
  {
   "cell_type": "code",
   "execution_count": 19,
   "id": "db372b5d-e0c2-4339-93c4-b3fcde63a6f2",
   "metadata": {},
   "outputs": [
    {
     "data": {
      "text/plain": [
       "[1, 4, 9, 16, 25, 36, 49, 64, 81, 100]"
      ]
     },
     "execution_count": 19,
     "metadata": {},
     "output_type": "execute_result"
    }
   ],
   "source": [
    "list(map(square,l1))  # by using map"
   ]
  },
  {
   "cell_type": "code",
   "execution_count": 21,
   "id": "4722775a-1911-482b-9f63-1227faa9bb84",
   "metadata": {},
   "outputs": [
    {
     "data": {
      "text/plain": [
       "[1, 4, 9, 16, 25, 36, 49, 64, 81, 100]"
      ]
     },
     "execution_count": 21,
     "metadata": {},
     "output_type": "execute_result"
    }
   ],
   "source": [
    "list(map(lambda x:x**2,l1))  # by using lambda and map "
   ]
  },
  {
   "cell_type": "code",
   "execution_count": null,
   "id": "caa0a65d-fc11-4acf-b37e-bb2a4f5557e1",
   "metadata": {},
   "outputs": [],
   "source": []
  },
  {
   "cell_type": "code",
   "execution_count": null,
   "id": "22a63744-4978-42b4-ac5d-9c055f1c4abb",
   "metadata": {},
   "outputs": [],
   "source": []
  },
  {
   "cell_type": "code",
   "execution_count": null,
   "id": "c692e655-ee42-48ac-93bd-a35275e5daad",
   "metadata": {},
   "outputs": [],
   "source": [
    "# Question - 3\n",
    "# ans "
   ]
  },
  {
   "cell_type": "code",
   "execution_count": 24,
   "id": "6c77023f-da1b-40b0-b365-7eb1dea89381",
   "metadata": {},
   "outputs": [
    {
     "name": "stdout",
     "output_type": "stream",
     "text": [
      "('1', '2', '3', '4', '5', '6', '7', '8', '9', '10')\n"
     ]
    }
   ],
   "source": [
    " s = [1, 2, 3, 4, 5, 6, 7, 8, 9, 10]\n",
    "    \n",
    "tup_str = tuple(map(lambda x : str(x),s))\n",
    "\n",
    "print(tup_str)"
   ]
  },
  {
   "cell_type": "code",
   "execution_count": null,
   "id": "638f3808-01a5-4be5-b98e-875b53b84433",
   "metadata": {},
   "outputs": [],
   "source": []
  },
  {
   "cell_type": "code",
   "execution_count": null,
   "id": "a30ccbd1-edab-43a9-897a-c72e9f058f8d",
   "metadata": {},
   "outputs": [],
   "source": []
  },
  {
   "cell_type": "code",
   "execution_count": null,
   "id": "373fdf7f-435e-4835-89c3-acd9a1055367",
   "metadata": {},
   "outputs": [],
   "source": []
  },
  {
   "cell_type": "code",
   "execution_count": null,
   "id": "ac9e5f66-d5ff-45b1-92d0-9683208d25d3",
   "metadata": {},
   "outputs": [],
   "source": [
    "# Question - 4\n",
    "# ans - "
   ]
  },
  {
   "cell_type": "code",
   "execution_count": 25,
   "id": "c5667a36-f0c1-4cbf-a84d-d7cb15c38515",
   "metadata": {},
   "outputs": [
    {
     "name": "stdout",
     "output_type": "stream",
     "text": [
      "[1, 2, 3, 4, 5, 6, 7, 8, 9, 10, 11, 12, 13, 14, 15, 16, 17, 18, 19, 20, 21, 22, 23, 24, 25]\n"
     ]
    }
   ],
   "source": [
    "l = list(range(1,26))\n",
    "print(l)"
   ]
  },
  {
   "cell_type": "code",
   "execution_count": 30,
   "id": "45452e83-da27-40ac-aac4-8ee5ecf3c6bf",
   "metadata": {},
   "outputs": [],
   "source": [
    "from functools import reduce"
   ]
  },
  {
   "cell_type": "code",
   "execution_count": 32,
   "id": "9fcb4382-6e39-4fd9-837d-00775072f49e",
   "metadata": {},
   "outputs": [
    {
     "data": {
      "text/plain": [
       "15511210043330985984000000"
      ]
     },
     "execution_count": 32,
     "metadata": {},
     "output_type": "execute_result"
    }
   ],
   "source": [
    "reduce(lambda x,y : x*y , l)"
   ]
  },
  {
   "cell_type": "code",
   "execution_count": null,
   "id": "f28609c0-b993-4982-b8cf-67f182b0638c",
   "metadata": {},
   "outputs": [],
   "source": []
  },
  {
   "cell_type": "code",
   "execution_count": null,
   "id": "2f0f3eab-302d-4b57-ab40-8575a99bd825",
   "metadata": {},
   "outputs": [],
   "source": []
  },
  {
   "cell_type": "code",
   "execution_count": null,
   "id": "a9452f5e-64c1-4d61-89aa-2984885285e5",
   "metadata": {},
   "outputs": [],
   "source": [
    "# question - 5 \n",
    "# ans "
   ]
  },
  {
   "cell_type": "code",
   "execution_count": 34,
   "id": "84918af8-0923-45a0-a6b6-05c582ac1c40",
   "metadata": {},
   "outputs": [
    {
     "data": {
      "text/plain": [
       "[2, 3, 6, 9, 27, 60, 90, 120, 46]"
      ]
     },
     "execution_count": 34,
     "metadata": {},
     "output_type": "execute_result"
    }
   ],
   "source": [
    "l = [2, 3, 6, 9, 27, 60, 90, 120, 55, 46]\n",
    "\n",
    "list(filter(lambda x : x%2 ==0 or x%3 == 0, l))"
   ]
  },
  {
   "cell_type": "code",
   "execution_count": null,
   "id": "9c8fce95-e93d-4b47-a10e-061456f68d91",
   "metadata": {},
   "outputs": [],
   "source": []
  },
  {
   "cell_type": "code",
   "execution_count": null,
   "id": "1b2deac9-eecb-424f-a512-ab8443755a53",
   "metadata": {},
   "outputs": [],
   "source": []
  },
  {
   "cell_type": "code",
   "execution_count": null,
   "id": "3c5e21f8-01c1-4cf8-a32a-a31b08dbf4e4",
   "metadata": {},
   "outputs": [],
   "source": [
    "# Question - 6\n",
    "# ans -"
   ]
  },
  {
   "cell_type": "code",
   "execution_count": 37,
   "id": "33e87d60-b900-4aa1-9e2a-723cbddc06f1",
   "metadata": {},
   "outputs": [
    {
     "name": "stdout",
     "output_type": "stream",
     "text": [
      "['php', 'aba', 'radar', 'level']\n"
     ]
    }
   ],
   "source": [
    "s = ['python', 'php', 'aba', 'radar', 'level']\n",
    "\n",
    "palindromes = list(filter(lambda x :x== x[::-1], s))\n",
    "\n",
    "print(palindromes)\n",
    "\n"
   ]
  },
  {
   "cell_type": "code",
   "execution_count": null,
   "id": "4aa1e6d5-378b-4943-974d-54b8d07656c3",
   "metadata": {},
   "outputs": [],
   "source": []
  }
 ],
 "metadata": {
  "kernelspec": {
   "display_name": "Python 3 (ipykernel)",
   "language": "python",
   "name": "python3"
  },
  "language_info": {
   "codemirror_mode": {
    "name": "ipython",
    "version": 3
   },
   "file_extension": ".py",
   "mimetype": "text/x-python",
   "name": "python",
   "nbconvert_exporter": "python",
   "pygments_lexer": "ipython3",
   "version": "3.10.8"
  }
 },
 "nbformat": 4,
 "nbformat_minor": 5
}
